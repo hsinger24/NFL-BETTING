{
 "cells": [
  {
   "cell_type": "code",
   "execution_count": 19,
   "metadata": {},
   "outputs": [],
   "source": [
    "import pandas as pd\n",
    "import datetime as dt\n",
    "import re\n",
    "import time\n",
    "import os\n",
    "from bs4 import BeautifulSoup\n",
    "from selenium import webdriver\n",
    "from selenium.webdriver.common.keys import Keys\n",
    "from selenium.webdriver.chrome.options import Options\n",
    "from selenium.webdriver.common.by import By\n",
    "from selenium.webdriver.support import expected_conditions as EC\n",
    "from selenium.webdriver.support.ui import WebDriverWait\n",
    "from selenium.webdriver.support.ui import Select\n",
    "from webdriver_manager.chrome import ChromeDriverManager"
   ]
  },
  {
   "cell_type": "code",
   "execution_count": 32,
   "metadata": {},
   "outputs": [
    {
     "name": "stderr",
     "output_type": "stream",
     "text": [
      "/Users/hsinger24/Desktop/Programming/anaconda3/lib/python3.7/site-packages/ipykernel_launcher.py:31: SettingWithCopyWarning: \n",
      "A value is trying to be set on a copy of a slice from a DataFrame.\n",
      "Try using .loc[row_indexer,col_indexer] = value instead\n",
      "\n",
      "See the caveats in the documentation: https://pandas.pydata.org/pandas-docs/stable/user_guide/indexing.html#returning-a-view-versus-a-copy\n"
     ]
    }
   ],
   "source": [
    "week = 1\n",
    "def _calculate_payoff(row):\n",
    "    if row.Bet<=0:\n",
    "        payoff = 0\n",
    "    else:\n",
    "        if row.Home_KC>0:\n",
    "            if row.Home_Odds>0:\n",
    "                payoff = (row.Home_Odds/100)*row.Bet\n",
    "            if row.Home_Odds<0:\n",
    "                payoff = row.Bet/((abs(row.Home_Odds)/100))\n",
    "        if row.Away_KC>0:\n",
    "            if row.Away_Odds>0:\n",
    "                payoff = (row.Away_Odds/100)*row.Bet\n",
    "            if row.Away_Odds<0:\n",
    "                payoff = row.Bet/((abs(row.Away_Odds)/100))\n",
    "    return payoff\n",
    "\n",
    "# Getting winners\n",
    "\n",
    "#Instantiating stuff used throughout\n",
    "winners = []\n",
    "team_regex = r'\\D+'\n",
    "#Iterating through tables and finding winners\n",
    "tables = pd.read_html(f'https://www.cbssports.com/nfl/scoreboard/all/2022/regular/{week}/')\n",
    "for table in tables:\n",
    "    if table.columns[0] == tables[0].columns[0]:\n",
    "        table['Team'] = table['Unnamed: 0'].apply(lambda x: re.findall(team_regex, x)[0])\n",
    "        table = table[['Team', 'T']]\n",
    "        table.columns = ['Team', 'Score']\n",
    "        table['Score'] = table.Score.astype('float')\n",
    "        if table.iloc[0, 1] > table.iloc[1,1]:\n",
    "            winners.append(table.iloc[0,0])\n",
    "        elif table.iloc[0, 1] == table.iloc[1,1]:\n",
    "            pass\n",
    "        else:\n",
    "            winners.append(table.iloc[1,0])"
   ]
  },
  {
   "cell_type": "code",
   "execution_count": 41,
   "metadata": {},
   "outputs": [],
   "source": [
    "# Determining if bets hit or not\n",
    "files = os.listdir('Bets')\n",
    "lw_bets = pd.read_csv(f'Bets/{files[-1]}', index_col = 0)\n",
    "lw_bets['Payoff'] = lw_bets.apply(_calculate_payoff, axis = 1)\n",
    "lw_bets['Won_Bet'] = lw_bets.apply(lambda x: 1 if (x.Home_KC > 0 and x.Home_Team in winners) or \n",
    "                                   (x.Away_KC > 0 and x.Away_Team in winners) else\n",
    "                                   (-1 if ((x.Home_Team not in winners) and (x.Away_Team not in winners)) \n",
    "                                    or x.Bet <= 0 else 0), axis = 1)\n",
    "# Tracking capital\n",
    "lw_bets['Capital_Tracker'] = 0\n",
    "for index, row in lw_bets.iterrows():\n",
    "    if index == 0:\n",
    "        if row.Won_Bet == 1:\n",
    "            lw_bets.loc[index, 'Capital_Tracker'] = capital + row.Payoff\n",
    "        if row.Won_Bet == -1:\n",
    "            lw_bets.loc[index, 'Capital_Tracker'] = capital\n",
    "        if row.Won_Bet == 0:\n",
    "            lw_bets.loc[index, 'Capital_Tracker'] = capital - row.Bet\n",
    "    else:\n",
    "        if row.Won_Bet == 1:\n",
    "            lw_bets.loc[index, 'Capital_Tracker'] = lw_bets.loc[(index-1), 'Capital_Tracker'] + row.Payoff\n",
    "        if row.Won_Bet == -1:\n",
    "            lw_bets.loc[index, 'Capital_Tracker'] = lw_bets.loc[(index-1), 'Capital_Tracker']\n",
    "        if row.Won_Bet == 0:\n",
    "            lw_bets.loc[index, 'Capital_Tracker'] = lw_bets.loc[(index-1), 'Capital_Tracker'] - row.Bet"
   ]
  },
  {
   "cell_type": "code",
   "execution_count": 40,
   "metadata": {},
   "outputs": [],
   "source": [
    "if week == 1:\n",
    "    lw_bets.to_csv('Results.csv')\n",
    "else:\n",
    "    results = pd.read_csv('Results.csv', index_col = 0)\n",
    "    results = results.append(lw_bets)\n",
    "    results.to_csv('Results.csv')"
   ]
  },
  {
   "cell_type": "code",
   "execution_count": null,
   "metadata": {},
   "outputs": [],
   "source": []
  }
 ],
 "metadata": {
  "kernelspec": {
   "display_name": "Python 3",
   "language": "python",
   "name": "python3"
  },
  "language_info": {
   "codemirror_mode": {
    "name": "ipython",
    "version": 3
   },
   "file_extension": ".py",
   "mimetype": "text/x-python",
   "name": "python",
   "nbconvert_exporter": "python",
   "pygments_lexer": "ipython3",
   "version": "3.7.6"
  }
 },
 "nbformat": 4,
 "nbformat_minor": 4
}
